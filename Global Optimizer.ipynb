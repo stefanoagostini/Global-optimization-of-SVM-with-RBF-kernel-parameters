{
 "cells": [
  {
   "cell_type": "code",
   "execution_count": 2,
   "metadata": {},
   "outputs": [],
   "source": [
    "from sklearn.svm import SVC\n",
    "import matplotlib.pyplot as plt\n",
    "from sklearn import datasets\n",
    "import numpy as np\n",
    "from scipy.optimize import basinhopping, differential_evolution"
   ]
  },
  {
   "cell_type": "code",
   "execution_count": 3,
   "metadata": {},
   "outputs": [],
   "source": [
    "iris = datasets.load_iris()\n",
    "X = iris.data\n",
    "y = iris.target\n",
    "\n",
    "\n",
    "\n",
    "n_sample = len(X)\n",
    "\n",
    "np.random.seed(0)\n",
    "order = np.random.permutation(n_sample)\n",
    "X = X[order]\n",
    "y = y[order].astype(np.float)\n",
    "\n",
    "val_size=0.1\n",
    "test_size=0.1\n",
    "\n",
    "l_val=int(val_size*n_sample)\n",
    "l_test=int(test_size*n_sample)\n",
    "l_train=n_sample-l_val-l_test\n",
    "\n",
    "\n",
    "X_train=X[:l_train]\n",
    "y_train=y[:l_train]\n",
    "X_val=X[l_train:l_val+l_train]\n",
    "y_val=y[l_train:l_val+l_train]\n",
    "X_test=X[l_val+l_train:]\n",
    "y_test=y[l_val+l_train:]\n",
    "\n"
   ]
  },
  {
   "cell_type": "code",
   "execution_count": 4,
   "metadata": {},
   "outputs": [],
   "source": [
    "def f(x):\n",
    "    clf = SVC(C=x[0], gamma=x[1], kernel='rbf')\n",
    "    clf.fit(X_train, y_train)\n",
    "    return (-clf.score(X_val,y_val))"
   ]
  },
  {
   "cell_type": "markdown",
   "metadata": {},
   "source": [
    "# BASIN-HOPPING"
   ]
  },
  {
   "cell_type": "code",
   "execution_count": 5,
   "metadata": {},
   "outputs": [],
   "source": [
    "class RandomDisplacementBounds(object):\n",
    "    \"\"\"random displacement with bounds:  see: https://stackoverflow.com/a/21967888/2320035\n",
    "        Modified! (dropped acceptance-rejection sampling for a more specialized approach)\n",
    "    \"\"\"\n",
    "    def __init__(self, xmin, xmax, stepsize=0.5):\n",
    "        self.xmin = xmin\n",
    "        self.xmax = xmax\n",
    "        self.stepsize = stepsize\n",
    "\n",
    "    def __call__(self, x):\n",
    "        \"\"\"take a random step but ensure the new position is within the bounds \"\"\"\n",
    "        min_step = np.maximum(self.xmin - x, -self.stepsize)\n",
    "        max_step = np.minimum(self.xmax - x, self.stepsize)\n",
    "\n",
    "        random_step = np.random.uniform(low=min_step, high=max_step, size=x.shape)\n",
    "        xnew = x + random_step\n",
    "\n",
    "        return xnew"
   ]
  },
  {
   "cell_type": "code",
   "execution_count": 6,
   "metadata": {},
   "outputs": [],
   "source": [
    "bc = (0.1*10**(-30), float(\"inf\"))\n",
    "bg = (0.1*10**(-30), float(\"inf\"))\n",
    "bounds = [bc,bg]\n",
    "\n",
    "x0vect=[[1,0.1], [2,3], [1000, 10]]"
   ]
  },
  {
   "cell_type": "code",
   "execution_count": 7,
   "metadata": {},
   "outputs": [
    {
     "name": "stdout",
     "output_type": "stream",
     "text": [
      "global maximum: C = 1.0920, gamma = 0.3434, f(x0) = 0.9333 (evaluation set)\n"
     ]
    }
   ],
   "source": [
    "minimizer_kwargs = {\"method\":\"L-BFGS-B\", \"bounds\": bounds}\n",
    "bounded_step = RandomDisplacementBounds(np.array([b[0] for b in bounds]), np.array([b[1] for b in bounds]))\n",
    "\n",
    "ret={}\n",
    "for i, x0 in enumerate(x0vect):\n",
    "    ret[i] = basinhopping(f, x0, minimizer_kwargs=minimizer_kwargs, take_step=bounded_step, niter=1000)\n",
    "\n",
    "max=ret[0]\n",
    "for i, x0 in enumerate(x0vect): \n",
    "    if max.fun>ret[i].fun:\n",
    "        max=ret[i]\n",
    "\n",
    "print(\"global maximum: C = %.4f, gamma = %.4f, f(x0) = %.4f (evaluation set)\" % (max.x[0], max.x[1],(-max.fun)))\n"
   ]
  },
  {
   "cell_type": "code",
   "execution_count": 8,
   "metadata": {},
   "outputs": [
    {
     "name": "stdout",
     "output_type": "stream",
     "text": [
      "0.9333333333333333\n",
      "[1. 2. 2. 0. 1. 1. 2. 1. 0. 0. 0. 2. 1. 2. 0.] [1. 2. 2. 0. 1. 1. 1. 1. 0. 0. 0. 2. 1. 2. 0.]\n"
     ]
    }
   ],
   "source": [
    "#Testing the value on the test set\n",
    "\n",
    "c=max.x[0]\n",
    "g=max.x[1]\n",
    "clf = SVC(C=c, gamma=g, kernel='rbf')\n",
    "clf.fit(X_train, y_train)\n",
    "\n",
    "print(clf.score(X_test, y_test))\n",
    "\n",
    "print(clf.predict(X_test), y_test)"
   ]
  },
  {
   "cell_type": "markdown",
   "metadata": {},
   "source": [
    "# DIFFERETIAL EVOLUTION"
   ]
  },
  {
   "cell_type": "code",
   "execution_count": 16,
   "metadata": {},
   "outputs": [
    {
     "name": "stdout",
     "output_type": "stream",
     "text": [
      "global maximum: C = 1.3908, gamma = 2.2481, f(x0) = 0.9333  (evaluation set)\n"
     ]
    }
   ],
   "source": [
    "bc = (0.1*10**(-30), 100)\n",
    "bg = (0.1*10**(-30), 100)\n",
    "bounds = [bc,bg]\n",
    "\n",
    "res = differential_evolution(f, bounds)\n",
    "\n",
    "print(\"global maximum: C = %.4f, gamma = %.4f, f(x0) = %.4f  (evaluation set)\" % (res.x[0], res.x[1],(-res.fun)))   #use population for a better result. the output can change every time the algorithm is launched\n"
   ]
  },
  {
   "cell_type": "code",
   "execution_count": 17,
   "metadata": {},
   "outputs": [
    {
     "name": "stdout",
     "output_type": "stream",
     "text": [
      "0.9333333333333333\n",
      "[1. 2. 2. 0. 1. 1. 2. 1. 0. 0. 0. 2. 1. 2. 0.] [1. 2. 2. 0. 1. 1. 1. 1. 0. 0. 0. 2. 1. 2. 0.]\n"
     ]
    }
   ],
   "source": [
    "#Testing the value on the test set\n",
    "\n",
    "c=res.x[0]\n",
    "g=res.x[1]\n",
    "clf = SVC(C=c, gamma=g, kernel='rbf')\n",
    "clf.fit(X_train, y_train)\n",
    "\n",
    "print(clf.score(X_test, y_test))\n",
    "\n",
    "print(clf.predict(X_test), y_test)"
   ]
  },
  {
   "cell_type": "markdown",
   "metadata": {},
   "source": [
    "# Dual Annealing"
   ]
  },
  {
   "cell_type": "code",
   "execution_count": 11,
   "metadata": {},
   "outputs": [],
   "source": [
    "from scipy.optimize import dual_annealing"
   ]
  },
  {
   "cell_type": "code",
   "execution_count": 12,
   "metadata": {},
   "outputs": [
    {
     "name": "stdout",
     "output_type": "stream",
     "text": [
      "global maximum: C = 0.1988, gamma = 0.9719, f(x0) = 0.9333\n"
     ]
    }
   ],
   "source": [
    "bc = (0.1*10**(-30), 100)\n",
    "bg = (0.1*10**(-30), 100)\n",
    "bounds = [bc,bg]\n",
    "\n",
    "res = dual_annealing(f, bounds)\n",
    "\n",
    "print(\"global maximum: C = %.4f, gamma = %.4f, f(x0) = %.4f\" % (res.x[0], res.x[1],(-res.fun)))   #use population for a better result. the output can change every time the algorithm is launched\n"
   ]
  },
  {
   "cell_type": "code",
   "execution_count": 13,
   "metadata": {},
   "outputs": [
    {
     "name": "stdout",
     "output_type": "stream",
     "text": [
      "1.0\n",
      "[1. 2. 2. 0. 1. 1. 1. 1. 0. 0. 0. 2. 1. 2. 0.] [1. 2. 2. 0. 1. 1. 1. 1. 0. 0. 0. 2. 1. 2. 0.]\n"
     ]
    }
   ],
   "source": [
    "#Testing the value on the test set\n",
    "\n",
    "c=res.x[0]\n",
    "g=res.x[1]\n",
    "clf = SVC(C=c, gamma=g, kernel='rbf')\n",
    "clf.fit(X_train, y_train)\n",
    "\n",
    "print(clf.score(X_test, y_test))\n",
    "\n",
    "print(clf.predict(X_test), y_test)"
   ]
  },
  {
   "cell_type": "code",
   "execution_count": null,
   "metadata": {},
   "outputs": [],
   "source": []
  }
 ],
 "metadata": {
  "celltoolbar": "Raw Cell Format",
  "kernelspec": {
   "display_name": "Python 3",
   "language": "python",
   "name": "python3"
  },
  "language_info": {
   "codemirror_mode": {
    "name": "ipython",
    "version": 3
   },
   "file_extension": ".py",
   "mimetype": "text/x-python",
   "name": "python",
   "nbconvert_exporter": "python",
   "pygments_lexer": "ipython3",
   "version": "3.7.2"
  }
 },
 "nbformat": 4,
 "nbformat_minor": 2
}
